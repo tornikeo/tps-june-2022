{
 "cells": [
  {
   "cell_type": "code",
   "execution_count": 8,
   "id": "b711d0f2",
   "metadata": {},
   "outputs": [],
   "source": [
    "import gc\n",
    "import torch as th\n",
    "import pandas as pd\n",
    "import torch.nn as nn\n",
    "import torch.nn.functional as F\n",
    "import numpy as np"
   ]
  },
  {
   "cell_type": "code",
   "execution_count": 6,
   "id": "93e7f05e",
   "metadata": {},
   "outputs": [],
   "source": [
    "device = 'cuda' if torch.cuda.is_available() else 'cpu'\n",
    "dtype = torch.float32"
   ]
  },
  {
   "cell_type": "code",
   "execution_count": 9,
   "id": "2a134abf",
   "metadata": {},
   "outputs": [],
   "source": [
    "df = pd.read_csv(\n",
    "  '../input/tabular-playground-series-jun-2022/data.csv',\n",
    "  index_col=0,\n",
    ")\n",
    "sample_sub = pd.read_csv(\n",
    "  '../input/tabular-playground-series-jun-2022/sample_submission.csv',\n",
    "  index_col=0\n",
    ")"
   ]
  },
  {
   "cell_type": "code",
   "execution_count": 19,
   "id": "9076a41e",
   "metadata": {},
   "outputs": [],
   "source": [
    "for col in df:\n",
    "  if df[col].dtype == 'int64':\n",
    "    df[col] = df[col].astype('int32')\n",
    "  if df[col].dtype == 'float64':\n",
    "    df[col] = df[col].astype('float32')"
   ]
  },
  {
   "cell_type": "code",
   "execution_count": 22,
   "id": "78ec1bcb",
   "metadata": {},
   "outputs": [],
   "source": [
    "mask = 1 - df.isna().astype('uint8')\n",
    "df.fillna(0, inplace=True)"
   ]
  },
  {
   "cell_type": "code",
   "execution_count": null,
   "id": "23a42dc6",
   "metadata": {},
   "outputs": [],
   "source": [
    "multihead_attn = nn.MultiheadAttention(embed_dim, num_heads)\n",
    "attn_output, attn_output_weights = multihead_attn(query, key, value)"
   ]
  }
 ],
 "metadata": {
  "kernelspec": {
   "display_name": "Python 3 (ipykernel)",
   "language": "python",
   "name": "python3"
  },
  "language_info": {
   "codemirror_mode": {
    "name": "ipython",
    "version": 3
   },
   "file_extension": ".py",
   "mimetype": "text/x-python",
   "name": "python",
   "nbconvert_exporter": "python",
   "pygments_lexer": "ipython3",
   "version": "3.8.13"
  }
 },
 "nbformat": 4,
 "nbformat_minor": 5
}
