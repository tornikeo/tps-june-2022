{
 "cells": [
  {
   "cell_type": "code",
   "execution_count": 24,
   "id": "06d8c970",
   "metadata": {},
   "outputs": [],
   "source": [
    "import os\n",
    "\n",
    "import pandas as pd\n",
    "import torch\n",
    "from IPython.display import display\n",
    "from pytorch_lightning import LightningModule, Trainer\n",
    "from pytorch_lightning.callbacks.progress import TQDMProgressBar\n",
    "from pytorch_lightning.loggers import CSVLogger\n",
    "from torch import nn\n",
    "from torch.nn import functional as F\n",
    "from torch.utils.data import DataLoader, random_split, Dataset\n",
    "from torchmetrics import Accuracy\n",
    "from torchvision import transforms\n",
    "from torchvision.datasets import MNIST\n",
    "import matplotlib.pyplot as plt\n",
    "\n",
    "PATH_DATASETS = os.environ.get(\"PATH_DATASETS\", \".\")\n",
    "BATCH_SIZE = 256 if torch.cuda.is_available() else 64"
   ]
  },
  {
   "cell_type": "code",
   "execution_count": 51,
   "id": "e07b2542",
   "metadata": {},
   "outputs": [
    {
     "data": {
      "text/plain": [
       "True"
      ]
     },
     "execution_count": 51,
     "metadata": {},
     "output_type": "execute_result"
    }
   ],
   "source": [
    "torch.cuda.is_available()"
   ]
  },
  {
   "cell_type": "code",
   "execution_count": 11,
   "id": "d87ea266",
   "metadata": {},
   "outputs": [],
   "source": [
    "class LinearModel(LightningModule):\n",
    "    def __init__(self):\n",
    "        super().__init__()\n",
    "        self.l1 = torch.nn.Linear(50, 1)\n",
    "\n",
    "    def forward(self, x):\n",
    "        return torch.relu(self.l1(x))\n",
    "\n",
    "    def training_step(self, batch, batch_nb):\n",
    "        x, y = batch\n",
    "        loss = F.cross_entropy(self(x), y)\n",
    "        return loss\n",
    "\n",
    "    def configure_optimizers(self):\n",
    "        return torch.optim.Adam(self.parameters(), lr=0.02)"
   ]
  },
  {
   "cell_type": "code",
   "execution_count": 99,
   "id": "57511f6b",
   "metadata": {},
   "outputs": [],
   "source": [
    "def get_data(size):\n",
    "  y = torch.randn((size, 1))\n",
    "  embed_dim = torch.arange(50)\n",
    "  x = torch.sin(embed_dim * y)\n",
    "  return x,y\n",
    "x,y = get_data(1000)"
   ]
  },
  {
   "cell_type": "code",
   "execution_count": 100,
   "id": "8468adcd",
   "metadata": {},
   "outputs": [
    {
     "data": {
      "text/plain": [
       "<matplotlib.image.AxesImage at 0x7f14ee60fee0>"
      ]
     },
     "execution_count": 100,
     "metadata": {},
     "output_type": "execute_result"
    },
    {
     "data": {
      "image/png": "[encoded data removed]",
      "text/plain": [
       "<Figure size 432x288 with 1 Axes>"
      ]
     },
     "metadata": {
      "needs_background": "light"
     },
     "output_type": "display_data"
    }
   ],
   "source": [
    "plt.imshow(x[:50])"
   ]
  },
  {
   "cell_type": "code",
   "execution_count": 101,
   "id": "6c0417cf",
   "metadata": {},
   "outputs": [],
   "source": [
    "class TabularDataset(Dataset):\n",
    "  def __init__(self, x, y):\n",
    "    self.x = x.detach().clone()\n",
    "    self.y = y.detach().clone()\n",
    "  def __len__(self):\n",
    "    return len(self.x)\n",
    "  def __getitem__(self,index):\n",
    "    return self.x[index], self.y[index]"
   ]
  },
  {
   "cell_type": "code",
   "execution_count": 108,
   "id": "61dbf3e3",
   "metadata": {},
   "outputs": [],
   "source": [
    "def get_dataloder(x,y, bs):\n",
    "  NROWS = len(x)\n",
    "  VALID_NROWS = NROWS // 10\n",
    "  TRAIN_NROWS = NROWS - VALID_NROWS\n",
    "  fullds = TabularDataset(x,y)\n",
    "  trainds, valds = torch.utils.data.random_split(\n",
    "    fullds, [TRAIN_NROWS, VALID_NROWS]\n",
    "  )\n",
    "  traindl = DataLoader(trainds,\n",
    "                       shuffle=True,\n",
    "                       batch_size = bs)\n",
    "  valdl = DataLoader(valds,\n",
    "                     shuffle=False,\n",
    "                       batch_size = bs * 2)\n",
    "  return traindl,valdl\n",
    "\n"
   ]
  },
  {
   "cell_type": "code",
   "execution_count": 123,
   "id": "13269dfb",
   "metadata": {},
   "outputs": [],
   "source": [
    "def get_model(input_shape):\n",
    "  model = nn.Sequential(\n",
    "    nn.Linear(input_shape[-1], 1),\n",
    "  )\n",
    "  optimizer = torch.optim.Adam(model.parameters())\n",
    "  return model, optimizer\n",
    "\n",
    "crit = nn.MSELoss()"
   ]
  },
  {
   "cell_type": "code",
   "execution_count": 124,
   "id": "30e4900a",
   "metadata": {},
   "outputs": [
    {
     "name": "stderr",
     "output_type": "stream",
     "text": [
      "100%|██████████████████████████████████████| 1000/1000 [00:02<00:00, 496.09it/s]\n"
     ]
    },
    {
     "data": {
      "image/png": "[encoded data removed]",
      "text/plain": [
       "<Figure size 432x288 with 1 Axes>"
      ]
     },
     "metadata": {
      "needs_background": "light"
     },
     "output_type": "display_data"
    }
   ],
   "source": [
    "from tqdm import tqdm\n",
    "EPOCHS = 1000\n",
    "BATCH_SIZE = 32\n",
    "\n",
    "x,y = get_data(100)\n",
    "model, optimizer = get_model(x.shape)\n",
    "traindl, valdl = get_dataloder(x,y,bs=32)\n",
    "\n",
    "losses = {'train':[],'valid':[], 'meta': 'sin(x)'}\n",
    "for ep in tqdm(range(EPOCHS)):\n",
    "  model.train()\n",
    "  for i,(xb,yb) in enumerate(traindl):\n",
    "    optimizer.zero_grad()\n",
    "    yhat = model(xb)\n",
    "    loss = crit(yhat, yb)\n",
    "    loss.backward()\n",
    "    optimizer.step()\n",
    "    losses['train'].append(loss.item())\n",
    "  model.eval()\n",
    "  with torch.no_grad():\n",
    "    for i,(xb,yb) in enumerate(traindl):\n",
    "      optimizer.zero_grad()\n",
    "      yhat = model(xb)\n",
    "      loss = crit(yhat, yb)\n",
    "      losses['valid'].append(loss.item())\n",
    "\n",
    "plt.figure()\n",
    "plt.title(losses.pop('meta'))\n",
    "for k,v in losses.items():\n",
    "  x = range(len(v))\n",
    "  plt.plot(x,v,label=k)\n",
    "plt.legend()\n",
    "plt.show()"
   ]
  },
  {
   "cell_type": "code",
   "execution_count": null,
   "id": "454bd347",
   "metadata": {},
   "outputs": [],
   "source": []
  }
 ],
 "metadata": {
  "kernelspec": {
   "display_name": "Python 3 (ipykernel)",
   "language": "python",
   "name": "python3"
  },
  "language_info": {
   "codemirror_mode": {
    "name": "ipython",
    "version": 3
   },
   "file_extension": ".py",
   "mimetype": "text/x-python",
   "name": "python",
   "nbconvert_exporter": "python",
   "pygments_lexer": "ipython3",
   "version": "3.8.13"
  }
 },
 "nbformat": 4,
 "nbformat_minor": 5
}
